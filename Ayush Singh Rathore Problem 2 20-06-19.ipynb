{
 "cells": [
  {
   "cell_type": "code",
   "execution_count": 1,
   "metadata": {},
   "outputs": [],
   "source": [
    "import numpy as np\n",
    "import pandas as pd\n",
    "import matplotlib.pyplot as plt\n",
    "import seaborn as sns\n",
    "import sklearn\n",
    "%matplotlib inline"
   ]
  },
  {
   "cell_type": "code",
   "execution_count": 2,
   "metadata": {},
   "outputs": [
    {
     "data": {
      "text/html": [
       "<div>\n",
       "<style scoped>\n",
       "    .dataframe tbody tr th:only-of-type {\n",
       "        vertical-align: middle;\n",
       "    }\n",
       "\n",
       "    .dataframe tbody tr th {\n",
       "        vertical-align: top;\n",
       "    }\n",
       "\n",
       "    .dataframe thead th {\n",
       "        text-align: right;\n",
       "    }\n",
       "</style>\n",
       "<table border=\"1\" class=\"dataframe\">\n",
       "  <thead>\n",
       "    <tr style=\"text-align: right;\">\n",
       "      <th></th>\n",
       "      <th>srno</th>\n",
       "      <th>mobmake</th>\n",
       "      <th>hubid</th>\n",
       "      <th>hubpincode</th>\n",
       "      <th>pickuppartnerid</th>\n",
       "      <th>deliverypartnerid</th>\n",
       "      <th>insuranceCompanyId</th>\n",
       "      <th>custpincodecategory</th>\n",
       "      <th>claimtype</th>\n",
       "      <th>custpincode</th>\n",
       "      <th>memcreateddate</th>\n",
       "      <th>mobilepurchasedate</th>\n",
       "      <th>claimintdate</th>\n",
       "      <th>servicecntrid</th>\n",
       "      <th>pickupStartdate</th>\n",
       "      <th>tat_in_days</th>\n",
       "    </tr>\n",
       "  </thead>\n",
       "  <tbody>\n",
       "    <tr>\n",
       "      <th>0</th>\n",
       "      <td>2851218</td>\n",
       "      <td>AN</td>\n",
       "      <td>7</td>\n",
       "      <td>500004</td>\n",
       "      <td>233</td>\n",
       "      <td>233</td>\n",
       "      <td>131</td>\n",
       "      <td>A</td>\n",
       "      <td>ADLD</td>\n",
       "      <td>500001</td>\n",
       "      <td>2017-04-27</td>\n",
       "      <td>2016-12-02</td>\n",
       "      <td>2018-02-08</td>\n",
       "      <td>4403</td>\n",
       "      <td>2018-02-13</td>\n",
       "      <td>5</td>\n",
       "    </tr>\n",
       "    <tr>\n",
       "      <th>1</th>\n",
       "      <td>2838330</td>\n",
       "      <td>AJ</td>\n",
       "      <td>10</td>\n",
       "      <td>226010</td>\n",
       "      <td>233</td>\n",
       "      <td>233</td>\n",
       "      <td>131</td>\n",
       "      <td>A</td>\n",
       "      <td>ADLD</td>\n",
       "      <td>226022</td>\n",
       "      <td>2017-03-06</td>\n",
       "      <td>2017-03-05</td>\n",
       "      <td>2018-02-04</td>\n",
       "      <td>4444</td>\n",
       "      <td>2018-02-08</td>\n",
       "      <td>12</td>\n",
       "    </tr>\n",
       "    <tr>\n",
       "      <th>2</th>\n",
       "      <td>2835781</td>\n",
       "      <td>AJ</td>\n",
       "      <td>2</td>\n",
       "      <td>110018</td>\n",
       "      <td>233</td>\n",
       "      <td>233</td>\n",
       "      <td>228</td>\n",
       "      <td>A</td>\n",
       "      <td>ADLD</td>\n",
       "      <td>110018</td>\n",
       "      <td>2018-02-01</td>\n",
       "      <td>2018-01-27</td>\n",
       "      <td>2018-02-03</td>\n",
       "      <td>4388</td>\n",
       "      <td>2018-02-12</td>\n",
       "      <td>9</td>\n",
       "    </tr>\n",
       "    <tr>\n",
       "      <th>3</th>\n",
       "      <td>2838589</td>\n",
       "      <td>AM</td>\n",
       "      <td>2</td>\n",
       "      <td>110018</td>\n",
       "      <td>233</td>\n",
       "      <td>233</td>\n",
       "      <td>228</td>\n",
       "      <td>B</td>\n",
       "      <td>ADLD</td>\n",
       "      <td>124001</td>\n",
       "      <td>2018-01-17</td>\n",
       "      <td>2018-01-31</td>\n",
       "      <td>2018-02-04</td>\n",
       "      <td>4092</td>\n",
       "      <td>2018-02-14</td>\n",
       "      <td>9</td>\n",
       "    </tr>\n",
       "    <tr>\n",
       "      <th>4</th>\n",
       "      <td>2855214</td>\n",
       "      <td>AN</td>\n",
       "      <td>21</td>\n",
       "      <td>110015</td>\n",
       "      <td>233</td>\n",
       "      <td>233</td>\n",
       "      <td>131</td>\n",
       "      <td>A</td>\n",
       "      <td>ADLD</td>\n",
       "      <td>201301</td>\n",
       "      <td>2018-01-23</td>\n",
       "      <td>2018-01-20</td>\n",
       "      <td>2018-02-09</td>\n",
       "      <td>4580</td>\n",
       "      <td>2018-02-14</td>\n",
       "      <td>8</td>\n",
       "    </tr>\n",
       "  </tbody>\n",
       "</table>\n",
       "</div>"
      ],
      "text/plain": [
       "      srno mobmake  hubid  hubpincode  pickuppartnerid  deliverypartnerid  \\\n",
       "0  2851218      AN      7      500004              233                233   \n",
       "1  2838330      AJ     10      226010              233                233   \n",
       "2  2835781      AJ      2      110018              233                233   \n",
       "3  2838589      AM      2      110018              233                233   \n",
       "4  2855214      AN     21      110015              233                233   \n",
       "\n",
       "   insuranceCompanyId custpincodecategory claimtype  custpincode  \\\n",
       "0                 131                   A      ADLD       500001   \n",
       "1                 131                   A      ADLD       226022   \n",
       "2                 228                   A      ADLD       110018   \n",
       "3                 228                   B      ADLD       124001   \n",
       "4                 131                   A      ADLD       201301   \n",
       "\n",
       "  memcreateddate mobilepurchasedate claimintdate  servicecntrid  \\\n",
       "0     2017-04-27         2016-12-02   2018-02-08           4403   \n",
       "1     2017-03-06         2017-03-05   2018-02-04           4444   \n",
       "2     2018-02-01         2018-01-27   2018-02-03           4388   \n",
       "3     2018-01-17         2018-01-31   2018-02-04           4092   \n",
       "4     2018-01-23         2018-01-20   2018-02-09           4580   \n",
       "\n",
       "  pickupStartdate  tat_in_days  \n",
       "0      2018-02-13            5  \n",
       "1      2018-02-08           12  \n",
       "2      2018-02-12            9  \n",
       "3      2018-02-14            9  \n",
       "4      2018-02-14            8  "
      ]
     },
     "execution_count": 2,
     "metadata": {},
     "output_type": "execute_result"
    }
   ],
   "source": [
    "data = pd.read_csv('problem_2_train.csv')\n",
    "data.head()"
   ]
  },
  {
   "cell_type": "code",
   "execution_count": 3,
   "metadata": {},
   "outputs": [
    {
     "data": {
      "text/plain": [
       "srno                   0\n",
       "mobmake                0\n",
       "hubid                  0\n",
       "hubpincode             0\n",
       "pickuppartnerid        0\n",
       "deliverypartnerid      0\n",
       "insuranceCompanyId     0\n",
       "custpincodecategory    0\n",
       "claimtype              0\n",
       "custpincode            0\n",
       "memcreateddate         0\n",
       "mobilepurchasedate     0\n",
       "claimintdate           0\n",
       "servicecntrid          0\n",
       "pickupStartdate        0\n",
       "tat_in_days            0\n",
       "dtype: int64"
      ]
     },
     "execution_count": 3,
     "metadata": {},
     "output_type": "execute_result"
    }
   ],
   "source": [
    "data.isnull().sum()"
   ]
  },
  {
   "cell_type": "code",
   "execution_count": 4,
   "metadata": {},
   "outputs": [
    {
     "data": {
      "text/plain": [
       "(21,)"
      ]
     },
     "execution_count": 4,
     "metadata": {},
     "output_type": "execute_result"
    }
   ],
   "source": [
    "data.hubpincode.unique().shape"
   ]
  },
  {
   "cell_type": "code",
   "execution_count": 5,
   "metadata": {},
   "outputs": [
    {
     "data": {
      "text/plain": [
       "(21,)"
      ]
     },
     "execution_count": 5,
     "metadata": {},
     "output_type": "execute_result"
    }
   ],
   "source": [
    "data.hubid.unique().shape"
   ]
  },
  {
   "cell_type": "code",
   "execution_count": 6,
   "metadata": {},
   "outputs": [],
   "source": [
    "df = pd.DataFrame(data, columns=['hubid','hubpincode'])\n",
    "df.drop_duplicates(inplace=True)"
   ]
  },
  {
   "cell_type": "code",
   "execution_count": 7,
   "metadata": {},
   "outputs": [
    {
     "data": {
      "text/plain": [
       "(21, 2)"
      ]
     },
     "execution_count": 7,
     "metadata": {},
     "output_type": "execute_result"
    }
   ],
   "source": [
    "df.shape"
   ]
  },
  {
   "cell_type": "code",
   "execution_count": 8,
   "metadata": {},
   "outputs": [],
   "source": [
    "#drop hubpincode\n",
    "data.drop('hubpincode', inplace=True, axis=1)"
   ]
  },
  {
   "cell_type": "code",
   "execution_count": 9,
   "metadata": {},
   "outputs": [
    {
     "data": {
      "text/plain": [
       "(6250, 15)"
      ]
     },
     "execution_count": 9,
     "metadata": {},
     "output_type": "execute_result"
    }
   ],
   "source": [
    "data.shape"
   ]
  },
  {
   "cell_type": "code",
   "execution_count": 10,
   "metadata": {},
   "outputs": [],
   "source": [
    "# converting string to ordinals\n",
    "# here 1 january, year1 = 1\n",
    "import datetime as dt\n",
    "data['memcreateddate'] = pd.to_datetime(data['memcreateddate'])\n",
    "data['mobilepurchasedate'] = pd.to_datetime(data['mobilepurchasedate'])\n",
    "data['claimintdate'] = pd.to_datetime(data['claimintdate'])\n",
    "data['pickupStartdate'] = pd.to_datetime(data['pickupStartdate'])"
   ]
  },
  {
   "cell_type": "code",
   "execution_count": 11,
   "metadata": {},
   "outputs": [],
   "source": [
    "data['memcreateddate']=data['memcreateddate'].map(dt.datetime.toordinal)\n",
    "data['mobilepurchasedate']=data['mobilepurchasedate'].map(dt.datetime.toordinal)\n",
    "data['claimintdate']=data['claimintdate'].map(dt.datetime.toordinal)\n",
    "data['pickupStartdate']=data['pickupStartdate'].map(dt.datetime.toordinal)"
   ]
  },
  {
   "cell_type": "code",
   "execution_count": 12,
   "metadata": {},
   "outputs": [
    {
     "name": "stdout",
     "output_type": "stream",
     "text": [
      "<class 'pandas.core.frame.DataFrame'>\n",
      "RangeIndex: 6250 entries, 0 to 6249\n",
      "Data columns (total 15 columns):\n",
      "srno                   6250 non-null int64\n",
      "mobmake                6250 non-null object\n",
      "hubid                  6250 non-null int64\n",
      "pickuppartnerid        6250 non-null int64\n",
      "deliverypartnerid      6250 non-null int64\n",
      "insuranceCompanyId     6250 non-null int64\n",
      "custpincodecategory    6250 non-null object\n",
      "claimtype              6250 non-null object\n",
      "custpincode            6250 non-null int64\n",
      "memcreateddate         6250 non-null int64\n",
      "mobilepurchasedate     6250 non-null int64\n",
      "claimintdate           6250 non-null int64\n",
      "servicecntrid          6250 non-null int64\n",
      "pickupStartdate        6250 non-null int64\n",
      "tat_in_days            6250 non-null int64\n",
      "dtypes: int64(12), object(3)\n",
      "memory usage: 732.5+ KB\n"
     ]
    }
   ],
   "source": [
    "data.info()"
   ]
  },
  {
   "cell_type": "code",
   "execution_count": 13,
   "metadata": {},
   "outputs": [
    {
     "data": {
      "text/html": [
       "<div>\n",
       "<style scoped>\n",
       "    .dataframe tbody tr th:only-of-type {\n",
       "        vertical-align: middle;\n",
       "    }\n",
       "\n",
       "    .dataframe tbody tr th {\n",
       "        vertical-align: top;\n",
       "    }\n",
       "\n",
       "    .dataframe thead th {\n",
       "        text-align: right;\n",
       "    }\n",
       "</style>\n",
       "<table border=\"1\" class=\"dataframe\">\n",
       "  <thead>\n",
       "    <tr style=\"text-align: right;\">\n",
       "      <th></th>\n",
       "      <th>srno</th>\n",
       "      <th>mobmake</th>\n",
       "      <th>hubid</th>\n",
       "      <th>pickuppartnerid</th>\n",
       "      <th>deliverypartnerid</th>\n",
       "      <th>insuranceCompanyId</th>\n",
       "      <th>custpincodecategory</th>\n",
       "      <th>claimtype</th>\n",
       "      <th>custpincode</th>\n",
       "      <th>memcreateddate</th>\n",
       "      <th>mobilepurchasedate</th>\n",
       "      <th>claimintdate</th>\n",
       "      <th>servicecntrid</th>\n",
       "      <th>pickupStartdate</th>\n",
       "      <th>tat_in_days</th>\n",
       "    </tr>\n",
       "  </thead>\n",
       "  <tbody>\n",
       "    <tr>\n",
       "      <th>0</th>\n",
       "      <td>2851218</td>\n",
       "      <td>AN</td>\n",
       "      <td>7</td>\n",
       "      <td>233</td>\n",
       "      <td>233</td>\n",
       "      <td>131</td>\n",
       "      <td>A</td>\n",
       "      <td>ADLD</td>\n",
       "      <td>500001</td>\n",
       "      <td>736446</td>\n",
       "      <td>736300</td>\n",
       "      <td>736733</td>\n",
       "      <td>4403</td>\n",
       "      <td>736738</td>\n",
       "      <td>5</td>\n",
       "    </tr>\n",
       "    <tr>\n",
       "      <th>1</th>\n",
       "      <td>2838330</td>\n",
       "      <td>AJ</td>\n",
       "      <td>10</td>\n",
       "      <td>233</td>\n",
       "      <td>233</td>\n",
       "      <td>131</td>\n",
       "      <td>A</td>\n",
       "      <td>ADLD</td>\n",
       "      <td>226022</td>\n",
       "      <td>736394</td>\n",
       "      <td>736393</td>\n",
       "      <td>736729</td>\n",
       "      <td>4444</td>\n",
       "      <td>736733</td>\n",
       "      <td>12</td>\n",
       "    </tr>\n",
       "  </tbody>\n",
       "</table>\n",
       "</div>"
      ],
      "text/plain": [
       "      srno mobmake  hubid  pickuppartnerid  deliverypartnerid  \\\n",
       "0  2851218      AN      7              233                233   \n",
       "1  2838330      AJ     10              233                233   \n",
       "\n",
       "   insuranceCompanyId custpincodecategory claimtype  custpincode  \\\n",
       "0                 131                   A      ADLD       500001   \n",
       "1                 131                   A      ADLD       226022   \n",
       "\n",
       "   memcreateddate  mobilepurchasedate  claimintdate  servicecntrid  \\\n",
       "0          736446              736300        736733           4403   \n",
       "1          736394              736393        736729           4444   \n",
       "\n",
       "   pickupStartdate  tat_in_days  \n",
       "0           736738            5  \n",
       "1           736733           12  "
      ]
     },
     "execution_count": 13,
     "metadata": {},
     "output_type": "execute_result"
    }
   ],
   "source": [
    "data.head(2)"
   ]
  },
  {
   "cell_type": "code",
   "execution_count": 14,
   "metadata": {},
   "outputs": [
    {
     "data": {
      "text/plain": [
       "array(['AN', 'AJ', 'AM', 'C', 'AI', 'AD', 'S', 'AA', 'Y', 'AE', 'D', 'U',\n",
       "       'AB', 'T', 'AF', 'G', 'L', 'H', 'K', 'J', 'N', 'AP', 'AK', 'O',\n",
       "       'F', 'AL', 'R', 'M', 'Z', 'P', 'I', 'V', 'AR', 'W', 'AG', 'B', 'A',\n",
       "       'AO'], dtype=object)"
      ]
     },
     "execution_count": 14,
     "metadata": {},
     "output_type": "execute_result"
    }
   ],
   "source": [
    "#checking if any value is 0\n",
    "data.mobmake.unique()"
   ]
  },
  {
   "cell_type": "code",
   "execution_count": null,
   "metadata": {},
   "outputs": [],
   "source": []
  },
  {
   "cell_type": "code",
   "execution_count": null,
   "metadata": {},
   "outputs": [],
   "source": []
  },
  {
   "cell_type": "code",
   "execution_count": 15,
   "metadata": {},
   "outputs": [],
   "source": [
    "data.drop('srno', inplace=True, axis=1)"
   ]
  },
  {
   "cell_type": "code",
   "execution_count": 16,
   "metadata": {},
   "outputs": [
    {
     "data": {
      "text/plain": [
       "(160, 14)"
      ]
     },
     "execution_count": 16,
     "metadata": {},
     "output_type": "execute_result"
    }
   ],
   "source": [
    "check_data = data[data['pickupStartdate']-data['claimintdate']== data['tat_in_days']]\n",
    "check_data.shape\n"
   ]
  },
  {
   "cell_type": "code",
   "execution_count": 17,
   "metadata": {},
   "outputs": [
    {
     "data": {
      "text/html": [
       "<div>\n",
       "<style scoped>\n",
       "    .dataframe tbody tr th:only-of-type {\n",
       "        vertical-align: middle;\n",
       "    }\n",
       "\n",
       "    .dataframe tbody tr th {\n",
       "        vertical-align: top;\n",
       "    }\n",
       "\n",
       "    .dataframe thead th {\n",
       "        text-align: right;\n",
       "    }\n",
       "</style>\n",
       "<table border=\"1\" class=\"dataframe\">\n",
       "  <thead>\n",
       "    <tr style=\"text-align: right;\">\n",
       "      <th></th>\n",
       "      <th>mobmake</th>\n",
       "      <th>hubid</th>\n",
       "      <th>pickuppartnerid</th>\n",
       "      <th>deliverypartnerid</th>\n",
       "      <th>insuranceCompanyId</th>\n",
       "      <th>custpincodecategory</th>\n",
       "      <th>claimtype</th>\n",
       "      <th>custpincode</th>\n",
       "      <th>memcreateddate</th>\n",
       "      <th>mobilepurchasedate</th>\n",
       "      <th>claimintdate</th>\n",
       "      <th>servicecntrid</th>\n",
       "      <th>pickupStartdate</th>\n",
       "      <th>tat_in_days</th>\n",
       "      <th>pickupStart</th>\n",
       "      <th>mobPurch</th>\n",
       "      <th>claimInD</th>\n",
       "      <th>purchD</th>\n",
       "    </tr>\n",
       "  </thead>\n",
       "  <tbody>\n",
       "    <tr>\n",
       "      <th>0</th>\n",
       "      <td>AN</td>\n",
       "      <td>7</td>\n",
       "      <td>233</td>\n",
       "      <td>233</td>\n",
       "      <td>131</td>\n",
       "      <td>A</td>\n",
       "      <td>ADLD</td>\n",
       "      <td>500001</td>\n",
       "      <td>736446</td>\n",
       "      <td>736300</td>\n",
       "      <td>736733</td>\n",
       "      <td>4403</td>\n",
       "      <td>736738</td>\n",
       "      <td>5</td>\n",
       "      <td>5</td>\n",
       "      <td>146</td>\n",
       "      <td>287</td>\n",
       "      <td>433</td>\n",
       "    </tr>\n",
       "    <tr>\n",
       "      <th>1</th>\n",
       "      <td>AJ</td>\n",
       "      <td>10</td>\n",
       "      <td>233</td>\n",
       "      <td>233</td>\n",
       "      <td>131</td>\n",
       "      <td>A</td>\n",
       "      <td>ADLD</td>\n",
       "      <td>226022</td>\n",
       "      <td>736394</td>\n",
       "      <td>736393</td>\n",
       "      <td>736729</td>\n",
       "      <td>4444</td>\n",
       "      <td>736733</td>\n",
       "      <td>12</td>\n",
       "      <td>4</td>\n",
       "      <td>1</td>\n",
       "      <td>335</td>\n",
       "      <td>336</td>\n",
       "    </tr>\n",
       "    <tr>\n",
       "      <th>2</th>\n",
       "      <td>AJ</td>\n",
       "      <td>2</td>\n",
       "      <td>233</td>\n",
       "      <td>233</td>\n",
       "      <td>228</td>\n",
       "      <td>A</td>\n",
       "      <td>ADLD</td>\n",
       "      <td>110018</td>\n",
       "      <td>736726</td>\n",
       "      <td>736721</td>\n",
       "      <td>736728</td>\n",
       "      <td>4388</td>\n",
       "      <td>736737</td>\n",
       "      <td>9</td>\n",
       "      <td>9</td>\n",
       "      <td>5</td>\n",
       "      <td>2</td>\n",
       "      <td>7</td>\n",
       "    </tr>\n",
       "  </tbody>\n",
       "</table>\n",
       "</div>"
      ],
      "text/plain": [
       "  mobmake  hubid  pickuppartnerid  deliverypartnerid  insuranceCompanyId  \\\n",
       "0      AN      7              233                233                 131   \n",
       "1      AJ     10              233                233                 131   \n",
       "2      AJ      2              233                233                 228   \n",
       "\n",
       "  custpincodecategory claimtype  custpincode  memcreateddate  \\\n",
       "0                   A      ADLD       500001          736446   \n",
       "1                   A      ADLD       226022          736394   \n",
       "2                   A      ADLD       110018          736726   \n",
       "\n",
       "   mobilepurchasedate  claimintdate  servicecntrid  pickupStartdate  \\\n",
       "0              736300        736733           4403           736738   \n",
       "1              736393        736729           4444           736733   \n",
       "2              736721        736728           4388           736737   \n",
       "\n",
       "   tat_in_days  pickupStart  mobPurch  claimInD  purchD  \n",
       "0            5            5       146       287     433  \n",
       "1           12            4         1       335     336  \n",
       "2            9            9         5         2       7  "
      ]
     },
     "execution_count": 17,
     "metadata": {},
     "output_type": "execute_result"
    }
   ],
   "source": [
    "data['pickupStart'] = data['pickupStartdate']-data['claimintdate']\n",
    "data['mobPurch'] = data['memcreateddate']-data['mobilepurchasedate']\n",
    "data['claimInD'] = data['claimintdate'] - data['memcreateddate']\n",
    "data['purchD'] = data['claimintdate'] - data['mobilepurchasedate']\n",
    "data.head(3)"
   ]
  },
  {
   "cell_type": "code",
   "execution_count": 18,
   "metadata": {},
   "outputs": [],
   "source": [
    "data.drop('memcreateddate', inplace=True, axis=1)\n",
    "data.drop('claimintdate', inplace=True, axis=1)\n",
    "data.drop('pickupStartdate', inplace=True, axis=1)\n",
    "data.drop('mobilepurchasedate', inplace=True, axis=1)"
   ]
  },
  {
   "cell_type": "code",
   "execution_count": 19,
   "metadata": {},
   "outputs": [],
   "source": [
    "data.rename(columns={'pickupStart':'pickup_to_claim_days'},inplace=True)\n",
    "data.rename(columns={'mobPurch':'member_purchase_days'},inplace=True)\n",
    "data.rename(columns={'claimInD':'claim_mem_days'},inplace=True)\n",
    "data.rename(columns={'purchD':'claim_to_mobpurchase_days'},inplace=True)"
   ]
  },
  {
   "cell_type": "code",
   "execution_count": 20,
   "metadata": {},
   "outputs": [
    {
     "data": {
      "text/html": [
       "<div>\n",
       "<style scoped>\n",
       "    .dataframe tbody tr th:only-of-type {\n",
       "        vertical-align: middle;\n",
       "    }\n",
       "\n",
       "    .dataframe tbody tr th {\n",
       "        vertical-align: top;\n",
       "    }\n",
       "\n",
       "    .dataframe thead th {\n",
       "        text-align: right;\n",
       "    }\n",
       "</style>\n",
       "<table border=\"1\" class=\"dataframe\">\n",
       "  <thead>\n",
       "    <tr style=\"text-align: right;\">\n",
       "      <th></th>\n",
       "      <th>mobmake</th>\n",
       "      <th>hubid</th>\n",
       "      <th>pickuppartnerid</th>\n",
       "      <th>deliverypartnerid</th>\n",
       "      <th>insuranceCompanyId</th>\n",
       "      <th>custpincodecategory</th>\n",
       "      <th>claimtype</th>\n",
       "      <th>custpincode</th>\n",
       "      <th>servicecntrid</th>\n",
       "      <th>tat_in_days</th>\n",
       "      <th>pickup_to_claim_days</th>\n",
       "      <th>member_purchase_days</th>\n",
       "      <th>claim_mem_days</th>\n",
       "      <th>claim_to_mobpurchase_days</th>\n",
       "    </tr>\n",
       "  </thead>\n",
       "  <tbody>\n",
       "    <tr>\n",
       "      <th>0</th>\n",
       "      <td>AN</td>\n",
       "      <td>7</td>\n",
       "      <td>233</td>\n",
       "      <td>233</td>\n",
       "      <td>131</td>\n",
       "      <td>A</td>\n",
       "      <td>ADLD</td>\n",
       "      <td>500001</td>\n",
       "      <td>4403</td>\n",
       "      <td>5</td>\n",
       "      <td>5</td>\n",
       "      <td>146</td>\n",
       "      <td>287</td>\n",
       "      <td>433</td>\n",
       "    </tr>\n",
       "    <tr>\n",
       "      <th>1</th>\n",
       "      <td>AJ</td>\n",
       "      <td>10</td>\n",
       "      <td>233</td>\n",
       "      <td>233</td>\n",
       "      <td>131</td>\n",
       "      <td>A</td>\n",
       "      <td>ADLD</td>\n",
       "      <td>226022</td>\n",
       "      <td>4444</td>\n",
       "      <td>12</td>\n",
       "      <td>4</td>\n",
       "      <td>1</td>\n",
       "      <td>335</td>\n",
       "      <td>336</td>\n",
       "    </tr>\n",
       "  </tbody>\n",
       "</table>\n",
       "</div>"
      ],
      "text/plain": [
       "  mobmake  hubid  pickuppartnerid  deliverypartnerid  insuranceCompanyId  \\\n",
       "0      AN      7              233                233                 131   \n",
       "1      AJ     10              233                233                 131   \n",
       "\n",
       "  custpincodecategory claimtype  custpincode  servicecntrid  tat_in_days  \\\n",
       "0                   A      ADLD       500001           4403            5   \n",
       "1                   A      ADLD       226022           4444           12   \n",
       "\n",
       "   pickup_to_claim_days  member_purchase_days  claim_mem_days  \\\n",
       "0                     5                   146             287   \n",
       "1                     4                     1             335   \n",
       "\n",
       "   claim_to_mobpurchase_days  \n",
       "0                        433  \n",
       "1                        336  "
      ]
     },
     "execution_count": 20,
     "metadata": {},
     "output_type": "execute_result"
    }
   ],
   "source": [
    "data.head(2)"
   ]
  },
  {
   "cell_type": "code",
   "execution_count": 21,
   "metadata": {},
   "outputs": [
    {
     "data": {
      "text/plain": [
       "<matplotlib.axes._subplots.AxesSubplot at 0x1e9c2098898>"
      ]
     },
     "execution_count": 21,
     "metadata": {},
     "output_type": "execute_result"
    },
    {
     "data": {
      "image/png": "[encoded data removed]",
      "text/plain": [
       "<Figure size 432x288 with 2 Axes>"
      ]
     },
     "metadata": {
      "needs_background": "light"
     },
     "output_type": "display_data"
    }
   ],
   "source": [
    "sns.heatmap(data.corr())"
   ]
  },
  {
   "cell_type": "code",
   "execution_count": null,
   "metadata": {},
   "outputs": [],
   "source": []
  },
  {
   "cell_type": "code",
   "execution_count": null,
   "metadata": {},
   "outputs": [],
   "source": []
  },
  {
   "cell_type": "code",
   "execution_count": 22,
   "metadata": {},
   "outputs": [],
   "source": [
    "from sklearn.preprocessing import LabelEncoder, OneHotEncoder\n",
    "labelencoder_X = LabelEncoder()"
   ]
  },
  {
   "cell_type": "code",
   "execution_count": 23,
   "metadata": {},
   "outputs": [
    {
     "data": {
      "text/plain": [
       "Index(['mobmake', 'hubid', 'pickuppartnerid', 'deliverypartnerid',\n",
       "       'insuranceCompanyId', 'custpincodecategory', 'claimtype', 'custpincode',\n",
       "       'servicecntrid', 'tat_in_days', 'pickup_to_claim_days',\n",
       "       'member_purchase_days', 'claim_mem_days', 'claim_to_mobpurchase_days'],\n",
       "      dtype='object')"
      ]
     },
     "execution_count": 23,
     "metadata": {},
     "output_type": "execute_result"
    }
   ],
   "source": [
    "data.columns"
   ]
  },
  {
   "cell_type": "markdown",
   "metadata": {},
   "source": [
    "### Encoding Categorical Data"
   ]
  },
  {
   "cell_type": "code",
   "execution_count": 24,
   "metadata": {},
   "outputs": [],
   "source": [
    "data.iloc[:, 0] = labelencoder_X.fit_transform(data.iloc[:, 0])"
   ]
  },
  {
   "cell_type": "code",
   "execution_count": 25,
   "metadata": {},
   "outputs": [
    {
     "data": {
      "text/html": [
       "<div>\n",
       "<style scoped>\n",
       "    .dataframe tbody tr th:only-of-type {\n",
       "        vertical-align: middle;\n",
       "    }\n",
       "\n",
       "    .dataframe tbody tr th {\n",
       "        vertical-align: top;\n",
       "    }\n",
       "\n",
       "    .dataframe thead th {\n",
       "        text-align: right;\n",
       "    }\n",
       "</style>\n",
       "<table border=\"1\" class=\"dataframe\">\n",
       "  <thead>\n",
       "    <tr style=\"text-align: right;\">\n",
       "      <th></th>\n",
       "      <th>mobmake</th>\n",
       "      <th>hubid</th>\n",
       "      <th>pickuppartnerid</th>\n",
       "      <th>deliverypartnerid</th>\n",
       "      <th>insuranceCompanyId</th>\n",
       "      <th>custpincodecategory</th>\n",
       "      <th>claimtype</th>\n",
       "      <th>custpincode</th>\n",
       "      <th>servicecntrid</th>\n",
       "      <th>tat_in_days</th>\n",
       "      <th>pickup_to_claim_days</th>\n",
       "      <th>member_purchase_days</th>\n",
       "      <th>claim_mem_days</th>\n",
       "      <th>claim_to_mobpurchase_days</th>\n",
       "    </tr>\n",
       "  </thead>\n",
       "  <tbody>\n",
       "    <tr>\n",
       "      <th>0</th>\n",
       "      <td>12</td>\n",
       "      <td>7</td>\n",
       "      <td>233</td>\n",
       "      <td>233</td>\n",
       "      <td>131</td>\n",
       "      <td>A</td>\n",
       "      <td>ADLD</td>\n",
       "      <td>500001</td>\n",
       "      <td>4403</td>\n",
       "      <td>5</td>\n",
       "      <td>5</td>\n",
       "      <td>146</td>\n",
       "      <td>287</td>\n",
       "      <td>433</td>\n",
       "    </tr>\n",
       "    <tr>\n",
       "      <th>1</th>\n",
       "      <td>8</td>\n",
       "      <td>10</td>\n",
       "      <td>233</td>\n",
       "      <td>233</td>\n",
       "      <td>131</td>\n",
       "      <td>A</td>\n",
       "      <td>ADLD</td>\n",
       "      <td>226022</td>\n",
       "      <td>4444</td>\n",
       "      <td>12</td>\n",
       "      <td>4</td>\n",
       "      <td>1</td>\n",
       "      <td>335</td>\n",
       "      <td>336</td>\n",
       "    </tr>\n",
       "  </tbody>\n",
       "</table>\n",
       "</div>"
      ],
      "text/plain": [
       "   mobmake  hubid  pickuppartnerid  deliverypartnerid  insuranceCompanyId  \\\n",
       "0       12      7              233                233                 131   \n",
       "1        8     10              233                233                 131   \n",
       "\n",
       "  custpincodecategory claimtype  custpincode  servicecntrid  tat_in_days  \\\n",
       "0                   A      ADLD       500001           4403            5   \n",
       "1                   A      ADLD       226022           4444           12   \n",
       "\n",
       "   pickup_to_claim_days  member_purchase_days  claim_mem_days  \\\n",
       "0                     5                   146             287   \n",
       "1                     4                     1             335   \n",
       "\n",
       "   claim_to_mobpurchase_days  \n",
       "0                        433  \n",
       "1                        336  "
      ]
     },
     "execution_count": 25,
     "metadata": {},
     "output_type": "execute_result"
    }
   ],
   "source": [
    "data.head(2)"
   ]
  },
  {
   "cell_type": "code",
   "execution_count": 26,
   "metadata": {},
   "outputs": [
    {
     "data": {
      "text/plain": [
       "array(['A', 'B', 'C', '0', 'D'], dtype=object)"
      ]
     },
     "execution_count": 26,
     "metadata": {},
     "output_type": "execute_result"
    }
   ],
   "source": [
    "data.custpincodecategory.unique()"
   ]
  },
  {
   "cell_type": "code",
   "execution_count": 27,
   "metadata": {},
   "outputs": [],
   "source": [
    "##replacing 0 with mode in custpincategory\n",
    "mod_cpc = data['custpincodecategory'].mode()[0]\n",
    "data=data.replace({'custpincodecategory': {'0':mod_cpc }}) "
   ]
  },
  {
   "cell_type": "code",
   "execution_count": null,
   "metadata": {},
   "outputs": [],
   "source": []
  },
  {
   "cell_type": "code",
   "execution_count": null,
   "metadata": {},
   "outputs": [],
   "source": []
  },
  {
   "cell_type": "code",
   "execution_count": 28,
   "metadata": {},
   "outputs": [
    {
     "data": {
      "text/html": [
       "<div>\n",
       "<style scoped>\n",
       "    .dataframe tbody tr th:only-of-type {\n",
       "        vertical-align: middle;\n",
       "    }\n",
       "\n",
       "    .dataframe tbody tr th {\n",
       "        vertical-align: top;\n",
       "    }\n",
       "\n",
       "    .dataframe thead th {\n",
       "        text-align: right;\n",
       "    }\n",
       "</style>\n",
       "<table border=\"1\" class=\"dataframe\">\n",
       "  <thead>\n",
       "    <tr style=\"text-align: right;\">\n",
       "      <th></th>\n",
       "      <th>custpincode_A</th>\n",
       "      <th>custpincode_B</th>\n",
       "      <th>custpincode_C</th>\n",
       "      <th>custpincode_D</th>\n",
       "    </tr>\n",
       "  </thead>\n",
       "  <tbody>\n",
       "    <tr>\n",
       "      <th>0</th>\n",
       "      <td>1</td>\n",
       "      <td>0</td>\n",
       "      <td>0</td>\n",
       "      <td>0</td>\n",
       "    </tr>\n",
       "    <tr>\n",
       "      <th>1</th>\n",
       "      <td>1</td>\n",
       "      <td>0</td>\n",
       "      <td>0</td>\n",
       "      <td>0</td>\n",
       "    </tr>\n",
       "    <tr>\n",
       "      <th>2</th>\n",
       "      <td>1</td>\n",
       "      <td>0</td>\n",
       "      <td>0</td>\n",
       "      <td>0</td>\n",
       "    </tr>\n",
       "  </tbody>\n",
       "</table>\n",
       "</div>"
      ],
      "text/plain": [
       "   custpincode_A  custpincode_B  custpincode_C  custpincode_D\n",
       "0              1              0              0              0\n",
       "1              1              0              0              0\n",
       "2              1              0              0              0"
      ]
     },
     "execution_count": 28,
     "metadata": {},
     "output_type": "execute_result"
    }
   ],
   "source": [
    "custpincodecategory = pd.get_dummies(data['custpincodecategory'], prefix='custpincode')\n",
    "claimtype = pd.get_dummies(data['claimtype'], prefix='claimtype')\n",
    "custpincodecategory.head(3)"
   ]
  },
  {
   "cell_type": "code",
   "execution_count": 29,
   "metadata": {},
   "outputs": [
    {
     "data": {
      "text/html": [
       "<div>\n",
       "<style scoped>\n",
       "    .dataframe tbody tr th:only-of-type {\n",
       "        vertical-align: middle;\n",
       "    }\n",
       "\n",
       "    .dataframe tbody tr th {\n",
       "        vertical-align: top;\n",
       "    }\n",
       "\n",
       "    .dataframe thead th {\n",
       "        text-align: right;\n",
       "    }\n",
       "</style>\n",
       "<table border=\"1\" class=\"dataframe\">\n",
       "  <thead>\n",
       "    <tr style=\"text-align: right;\">\n",
       "      <th></th>\n",
       "      <th>claimtype_ADLD</th>\n",
       "      <th>claimtype_EW</th>\n",
       "    </tr>\n",
       "  </thead>\n",
       "  <tbody>\n",
       "    <tr>\n",
       "      <th>0</th>\n",
       "      <td>1</td>\n",
       "      <td>0</td>\n",
       "    </tr>\n",
       "    <tr>\n",
       "      <th>1</th>\n",
       "      <td>1</td>\n",
       "      <td>0</td>\n",
       "    </tr>\n",
       "    <tr>\n",
       "      <th>2</th>\n",
       "      <td>1</td>\n",
       "      <td>0</td>\n",
       "    </tr>\n",
       "  </tbody>\n",
       "</table>\n",
       "</div>"
      ],
      "text/plain": [
       "   claimtype_ADLD  claimtype_EW\n",
       "0               1             0\n",
       "1               1             0\n",
       "2               1             0"
      ]
     },
     "execution_count": 29,
     "metadata": {},
     "output_type": "execute_result"
    }
   ],
   "source": [
    "claimtype.head(3)"
   ]
  },
  {
   "cell_type": "code",
   "execution_count": 30,
   "metadata": {},
   "outputs": [
    {
     "data": {
      "text/html": [
       "<div>\n",
       "<style scoped>\n",
       "    .dataframe tbody tr th:only-of-type {\n",
       "        vertical-align: middle;\n",
       "    }\n",
       "\n",
       "    .dataframe tbody tr th {\n",
       "        vertical-align: top;\n",
       "    }\n",
       "\n",
       "    .dataframe thead th {\n",
       "        text-align: right;\n",
       "    }\n",
       "</style>\n",
       "<table border=\"1\" class=\"dataframe\">\n",
       "  <thead>\n",
       "    <tr style=\"text-align: right;\">\n",
       "      <th></th>\n",
       "      <th>mobmake</th>\n",
       "      <th>hubid</th>\n",
       "      <th>pickuppartnerid</th>\n",
       "      <th>deliverypartnerid</th>\n",
       "      <th>insuranceCompanyId</th>\n",
       "      <th>custpincodecategory</th>\n",
       "      <th>claimtype</th>\n",
       "      <th>custpincode</th>\n",
       "      <th>servicecntrid</th>\n",
       "      <th>tat_in_days</th>\n",
       "      <th>pickup_to_claim_days</th>\n",
       "      <th>member_purchase_days</th>\n",
       "      <th>claim_mem_days</th>\n",
       "      <th>claim_to_mobpurchase_days</th>\n",
       "      <th>custpincode_A</th>\n",
       "      <th>custpincode_B</th>\n",
       "      <th>custpincode_C</th>\n",
       "      <th>claimtype_ADLD</th>\n",
       "    </tr>\n",
       "  </thead>\n",
       "  <tbody>\n",
       "    <tr>\n",
       "      <th>0</th>\n",
       "      <td>12</td>\n",
       "      <td>7</td>\n",
       "      <td>233</td>\n",
       "      <td>233</td>\n",
       "      <td>131</td>\n",
       "      <td>A</td>\n",
       "      <td>ADLD</td>\n",
       "      <td>500001</td>\n",
       "      <td>4403</td>\n",
       "      <td>5</td>\n",
       "      <td>5</td>\n",
       "      <td>146</td>\n",
       "      <td>287</td>\n",
       "      <td>433</td>\n",
       "      <td>1</td>\n",
       "      <td>0</td>\n",
       "      <td>0</td>\n",
       "      <td>1</td>\n",
       "    </tr>\n",
       "    <tr>\n",
       "      <th>1</th>\n",
       "      <td>8</td>\n",
       "      <td>10</td>\n",
       "      <td>233</td>\n",
       "      <td>233</td>\n",
       "      <td>131</td>\n",
       "      <td>A</td>\n",
       "      <td>ADLD</td>\n",
       "      <td>226022</td>\n",
       "      <td>4444</td>\n",
       "      <td>12</td>\n",
       "      <td>4</td>\n",
       "      <td>1</td>\n",
       "      <td>335</td>\n",
       "      <td>336</td>\n",
       "      <td>1</td>\n",
       "      <td>0</td>\n",
       "      <td>0</td>\n",
       "      <td>1</td>\n",
       "    </tr>\n",
       "    <tr>\n",
       "      <th>2</th>\n",
       "      <td>8</td>\n",
       "      <td>2</td>\n",
       "      <td>233</td>\n",
       "      <td>233</td>\n",
       "      <td>228</td>\n",
       "      <td>A</td>\n",
       "      <td>ADLD</td>\n",
       "      <td>110018</td>\n",
       "      <td>4388</td>\n",
       "      <td>9</td>\n",
       "      <td>9</td>\n",
       "      <td>5</td>\n",
       "      <td>2</td>\n",
       "      <td>7</td>\n",
       "      <td>1</td>\n",
       "      <td>0</td>\n",
       "      <td>0</td>\n",
       "      <td>1</td>\n",
       "    </tr>\n",
       "  </tbody>\n",
       "</table>\n",
       "</div>"
      ],
      "text/plain": [
       "   mobmake  hubid  pickuppartnerid  deliverypartnerid  insuranceCompanyId  \\\n",
       "0       12      7              233                233                 131   \n",
       "1        8     10              233                233                 131   \n",
       "2        8      2              233                233                 228   \n",
       "\n",
       "  custpincodecategory claimtype  custpincode  servicecntrid  tat_in_days  \\\n",
       "0                   A      ADLD       500001           4403            5   \n",
       "1                   A      ADLD       226022           4444           12   \n",
       "2                   A      ADLD       110018           4388            9   \n",
       "\n",
       "   pickup_to_claim_days  member_purchase_days  claim_mem_days  \\\n",
       "0                     5                   146             287   \n",
       "1                     4                     1             335   \n",
       "2                     9                     5               2   \n",
       "\n",
       "   claim_to_mobpurchase_days  custpincode_A  custpincode_B  custpincode_C  \\\n",
       "0                        433              1              0              0   \n",
       "1                        336              1              0              0   \n",
       "2                          7              1              0              0   \n",
       "\n",
       "   claimtype_ADLD  \n",
       "0               1  \n",
       "1               1  \n",
       "2               1  "
      ]
     },
     "execution_count": 30,
     "metadata": {},
     "output_type": "execute_result"
    }
   ],
   "source": [
    "custpincodecategory.drop('custpincode_D', inplace=True, axis=1)\n",
    "claimtype.drop('claimtype_EW', inplace=True, axis=1)\n",
    "\n",
    "data = pd.concat([data,custpincodecategory, claimtype], axis=1)\n",
    "data.head(3)"
   ]
  },
  {
   "cell_type": "code",
   "execution_count": 31,
   "metadata": {},
   "outputs": [
    {
     "data": {
      "text/html": [
       "<div>\n",
       "<style scoped>\n",
       "    .dataframe tbody tr th:only-of-type {\n",
       "        vertical-align: middle;\n",
       "    }\n",
       "\n",
       "    .dataframe tbody tr th {\n",
       "        vertical-align: top;\n",
       "    }\n",
       "\n",
       "    .dataframe thead th {\n",
       "        text-align: right;\n",
       "    }\n",
       "</style>\n",
       "<table border=\"1\" class=\"dataframe\">\n",
       "  <thead>\n",
       "    <tr style=\"text-align: right;\">\n",
       "      <th></th>\n",
       "      <th>mobmake</th>\n",
       "      <th>hubid</th>\n",
       "      <th>pickuppartnerid</th>\n",
       "      <th>deliverypartnerid</th>\n",
       "      <th>insuranceCompanyId</th>\n",
       "      <th>custpincode</th>\n",
       "      <th>servicecntrid</th>\n",
       "      <th>tat_in_days</th>\n",
       "      <th>pickup_to_claim_days</th>\n",
       "      <th>member_purchase_days</th>\n",
       "      <th>claim_mem_days</th>\n",
       "      <th>claim_to_mobpurchase_days</th>\n",
       "      <th>custpincode_A</th>\n",
       "      <th>custpincode_B</th>\n",
       "      <th>custpincode_C</th>\n",
       "      <th>claimtype_ADLD</th>\n",
       "    </tr>\n",
       "  </thead>\n",
       "  <tbody>\n",
       "    <tr>\n",
       "      <th>0</th>\n",
       "      <td>12</td>\n",
       "      <td>7</td>\n",
       "      <td>233</td>\n",
       "      <td>233</td>\n",
       "      <td>131</td>\n",
       "      <td>500001</td>\n",
       "      <td>4403</td>\n",
       "      <td>5</td>\n",
       "      <td>5</td>\n",
       "      <td>146</td>\n",
       "      <td>287</td>\n",
       "      <td>433</td>\n",
       "      <td>1</td>\n",
       "      <td>0</td>\n",
       "      <td>0</td>\n",
       "      <td>1</td>\n",
       "    </tr>\n",
       "    <tr>\n",
       "      <th>1</th>\n",
       "      <td>8</td>\n",
       "      <td>10</td>\n",
       "      <td>233</td>\n",
       "      <td>233</td>\n",
       "      <td>131</td>\n",
       "      <td>226022</td>\n",
       "      <td>4444</td>\n",
       "      <td>12</td>\n",
       "      <td>4</td>\n",
       "      <td>1</td>\n",
       "      <td>335</td>\n",
       "      <td>336</td>\n",
       "      <td>1</td>\n",
       "      <td>0</td>\n",
       "      <td>0</td>\n",
       "      <td>1</td>\n",
       "    </tr>\n",
       "    <tr>\n",
       "      <th>2</th>\n",
       "      <td>8</td>\n",
       "      <td>2</td>\n",
       "      <td>233</td>\n",
       "      <td>233</td>\n",
       "      <td>228</td>\n",
       "      <td>110018</td>\n",
       "      <td>4388</td>\n",
       "      <td>9</td>\n",
       "      <td>9</td>\n",
       "      <td>5</td>\n",
       "      <td>2</td>\n",
       "      <td>7</td>\n",
       "      <td>1</td>\n",
       "      <td>0</td>\n",
       "      <td>0</td>\n",
       "      <td>1</td>\n",
       "    </tr>\n",
       "  </tbody>\n",
       "</table>\n",
       "</div>"
      ],
      "text/plain": [
       "   mobmake  hubid  pickuppartnerid  deliverypartnerid  insuranceCompanyId  \\\n",
       "0       12      7              233                233                 131   \n",
       "1        8     10              233                233                 131   \n",
       "2        8      2              233                233                 228   \n",
       "\n",
       "   custpincode  servicecntrid  tat_in_days  pickup_to_claim_days  \\\n",
       "0       500001           4403            5                     5   \n",
       "1       226022           4444           12                     4   \n",
       "2       110018           4388            9                     9   \n",
       "\n",
       "   member_purchase_days  claim_mem_days  claim_to_mobpurchase_days  \\\n",
       "0                   146             287                        433   \n",
       "1                     1             335                        336   \n",
       "2                     5               2                          7   \n",
       "\n",
       "   custpincode_A  custpincode_B  custpincode_C  claimtype_ADLD  \n",
       "0              1              0              0               1  \n",
       "1              1              0              0               1  \n",
       "2              1              0              0               1  "
      ]
     },
     "execution_count": 31,
     "metadata": {},
     "output_type": "execute_result"
    }
   ],
   "source": [
    "data.drop('custpincodecategory', inplace=True, axis=1)\n",
    "data.drop('claimtype', inplace=True, axis=1)\n",
    "\n",
    "data.head(3)"
   ]
  },
  {
   "cell_type": "code",
   "execution_count": 32,
   "metadata": {},
   "outputs": [
    {
     "data": {
      "text/plain": [
       "<matplotlib.axes._subplots.AxesSubplot at 0x1e9c3a2d780>"
      ]
     },
     "execution_count": 32,
     "metadata": {},
     "output_type": "execute_result"
    },
    {
     "data": {
      "image/png": "[encoded data removed]",
      "text/plain": [
       "<Figure size 432x288 with 2 Axes>"
      ]
     },
     "metadata": {
      "needs_background": "light"
     },
     "output_type": "display_data"
    }
   ],
   "source": [
    "sns.heatmap(data.corr())"
   ]
  },
  {
   "cell_type": "code",
   "execution_count": null,
   "metadata": {},
   "outputs": [],
   "source": []
  },
  {
   "cell_type": "code",
   "execution_count": 33,
   "metadata": {},
   "outputs": [
    {
     "data": {
      "text/html": [
       "<div>\n",
       "<style scoped>\n",
       "    .dataframe tbody tr th:only-of-type {\n",
       "        vertical-align: middle;\n",
       "    }\n",
       "\n",
       "    .dataframe tbody tr th {\n",
       "        vertical-align: top;\n",
       "    }\n",
       "\n",
       "    .dataframe thead th {\n",
       "        text-align: right;\n",
       "    }\n",
       "</style>\n",
       "<table border=\"1\" class=\"dataframe\">\n",
       "  <thead>\n",
       "    <tr style=\"text-align: right;\">\n",
       "      <th></th>\n",
       "      <th>mobmake</th>\n",
       "      <th>hubid</th>\n",
       "      <th>pickuppartnerid</th>\n",
       "      <th>deliverypartnerid</th>\n",
       "      <th>insuranceCompanyId</th>\n",
       "      <th>custpincode</th>\n",
       "      <th>servicecntrid</th>\n",
       "      <th>pickup_to_claim_days</th>\n",
       "      <th>member_purchase_days</th>\n",
       "      <th>claim_mem_days</th>\n",
       "      <th>claim_to_mobpurchase_days</th>\n",
       "      <th>custpincode_A</th>\n",
       "      <th>custpincode_B</th>\n",
       "      <th>custpincode_C</th>\n",
       "      <th>claimtype_ADLD</th>\n",
       "    </tr>\n",
       "  </thead>\n",
       "  <tbody>\n",
       "    <tr>\n",
       "      <th>0</th>\n",
       "      <td>12</td>\n",
       "      <td>7</td>\n",
       "      <td>233</td>\n",
       "      <td>233</td>\n",
       "      <td>131</td>\n",
       "      <td>500001</td>\n",
       "      <td>4403</td>\n",
       "      <td>5</td>\n",
       "      <td>146</td>\n",
       "      <td>287</td>\n",
       "      <td>433</td>\n",
       "      <td>1</td>\n",
       "      <td>0</td>\n",
       "      <td>0</td>\n",
       "      <td>1</td>\n",
       "    </tr>\n",
       "    <tr>\n",
       "      <th>1</th>\n",
       "      <td>8</td>\n",
       "      <td>10</td>\n",
       "      <td>233</td>\n",
       "      <td>233</td>\n",
       "      <td>131</td>\n",
       "      <td>226022</td>\n",
       "      <td>4444</td>\n",
       "      <td>4</td>\n",
       "      <td>1</td>\n",
       "      <td>335</td>\n",
       "      <td>336</td>\n",
       "      <td>1</td>\n",
       "      <td>0</td>\n",
       "      <td>0</td>\n",
       "      <td>1</td>\n",
       "    </tr>\n",
       "    <tr>\n",
       "      <th>2</th>\n",
       "      <td>8</td>\n",
       "      <td>2</td>\n",
       "      <td>233</td>\n",
       "      <td>233</td>\n",
       "      <td>228</td>\n",
       "      <td>110018</td>\n",
       "      <td>4388</td>\n",
       "      <td>9</td>\n",
       "      <td>5</td>\n",
       "      <td>2</td>\n",
       "      <td>7</td>\n",
       "      <td>1</td>\n",
       "      <td>0</td>\n",
       "      <td>0</td>\n",
       "      <td>1</td>\n",
       "    </tr>\n",
       "  </tbody>\n",
       "</table>\n",
       "</div>"
      ],
      "text/plain": [
       "   mobmake  hubid  pickuppartnerid  deliverypartnerid  insuranceCompanyId  \\\n",
       "0       12      7              233                233                 131   \n",
       "1        8     10              233                233                 131   \n",
       "2        8      2              233                233                 228   \n",
       "\n",
       "   custpincode  servicecntrid  pickup_to_claim_days  member_purchase_days  \\\n",
       "0       500001           4403                     5                   146   \n",
       "1       226022           4444                     4                     1   \n",
       "2       110018           4388                     9                     5   \n",
       "\n",
       "   claim_mem_days  claim_to_mobpurchase_days  custpincode_A  custpincode_B  \\\n",
       "0             287                        433              1              0   \n",
       "1             335                        336              1              0   \n",
       "2               2                          7              1              0   \n",
       "\n",
       "   custpincode_C  claimtype_ADLD  \n",
       "0              0               1  \n",
       "1              0               1  \n",
       "2              0               1  "
      ]
     },
     "execution_count": 33,
     "metadata": {},
     "output_type": "execute_result"
    }
   ],
   "source": [
    "X = data[['mobmake', 'hubid', 'pickuppartnerid', 'deliverypartnerid',\n",
    "       'insuranceCompanyId', 'custpincode', 'servicecntrid',\n",
    "       'pickup_to_claim_days', 'member_purchase_days', 'claim_mem_days',\n",
    "       'claim_to_mobpurchase_days', 'custpincode_A', 'custpincode_B',\n",
    "       'custpincode_C', 'claimtype_ADLD']]\n",
    "X.head(3)"
   ]
  },
  {
   "cell_type": "code",
   "execution_count": 34,
   "metadata": {},
   "outputs": [],
   "source": [
    "y = data['tat_in_days']"
   ]
  },
  {
   "cell_type": "code",
   "execution_count": 35,
   "metadata": {},
   "outputs": [],
   "source": [
    "from sklearn.model_selection import train_test_split\n",
    "X_train, X_test, y_train, y_test = train_test_split(X, y, random_state=1)"
   ]
  },
  {
   "cell_type": "code",
   "execution_count": 36,
   "metadata": {},
   "outputs": [],
   "source": [
    "from sklearn.linear_model import LinearRegression\n",
    "from sklearn.metrics import mean_squared_error, r2_score\n",
    "from sklearn import metrics"
   ]
  },
  {
   "cell_type": "code",
   "execution_count": 37,
   "metadata": {},
   "outputs": [],
   "source": [
    "linreg = LinearRegression()\n",
    "linreg.fit(X_train, y_train)\n",
    "\n",
    "y_pred_linreg = linreg.predict(X_test)"
   ]
  },
  {
   "cell_type": "code",
   "execution_count": 38,
   "metadata": {},
   "outputs": [],
   "source": [
    "y_pred_linreg=pd.DataFrame(y_pred_linreg)\n",
    "pd.concat([X_test,y_pred_linreg],axis=1).to_csv(\"pred.csv\",index=False)"
   ]
  },
  {
   "cell_type": "code",
   "execution_count": 39,
   "metadata": {},
   "outputs": [
    {
     "name": "stdout",
     "output_type": "stream",
     "text": [
      "4.956888411741519\n"
     ]
    }
   ],
   "source": [
    "print(np.sqrt(metrics.mean_squared_error(y_test, y_pred_linreg)))"
   ]
  },
  {
   "cell_type": "code",
   "execution_count": 40,
   "metadata": {},
   "outputs": [
    {
     "name": "stdout",
     "output_type": "stream",
     "text": [
      "Mean squared error: 24.570742726457365\n"
     ]
    }
   ],
   "source": [
    "from sklearn.metrics import mean_squared_error\n",
    "print(\"Mean squared error: {}\".format(mean_squared_error(y_test, y_pred_linreg)))\n"
   ]
  },
  {
   "cell_type": "code",
   "execution_count": null,
   "metadata": {},
   "outputs": [],
   "source": []
  },
  {
   "cell_type": "code",
   "execution_count": null,
   "metadata": {},
   "outputs": [],
   "source": []
  }
 ],
 "metadata": {
  "kernelspec": {
   "display_name": "Python 3",
   "language": "python",
   "name": "python3"
  },
  "language_info": {
   "codemirror_mode": {
    "name": "ipython",
    "version": 3
   },
   "file_extension": ".py",
   "mimetype": "text/x-python",
   "name": "python",
   "nbconvert_exporter": "python",
   "pygments_lexer": "ipython3",
   "version": "3.7.3"
  }
 },
 "nbformat": 4,
 "nbformat_minor": 2
}
